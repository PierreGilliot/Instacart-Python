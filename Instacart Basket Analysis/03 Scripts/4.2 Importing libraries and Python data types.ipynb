{
 "cells": [
  {
   "cell_type": "markdown",
   "id": "ffaad4df",
   "metadata": {},
   "source": [
    "# 01. Importing libraries #"
   ]
  },
  {
   "cell_type": "code",
   "execution_count": 1,
   "id": "3e9cecf2",
   "metadata": {},
   "outputs": [],
   "source": [
    "# import libraries\n",
    "import pandas as pd\n",
    "import numpy as np\n",
    "import os"
   ]
  },
  {
   "cell_type": "markdown",
   "id": "0d9a250e",
   "metadata": {},
   "source": [
    "# 02. Working with Data Types in Python #"
   ]
  },
  {
   "cell_type": "code",
   "execution_count": 2,
   "id": "b6f83fcc",
   "metadata": {},
   "outputs": [],
   "source": [
    "x = 50\n",
    "y = 25"
   ]
  },
  {
   "cell_type": "code",
   "execution_count": 3,
   "id": "4b0446eb",
   "metadata": {},
   "outputs": [
    {
     "data": {
      "text/plain": [
       "100"
      ]
     },
     "execution_count": 3,
     "metadata": {},
     "output_type": "execute_result"
    }
   ],
   "source": [
    "x + y + y"
   ]
  },
  {
   "cell_type": "code",
   "execution_count": 4,
   "id": "0faa2c91",
   "metadata": {},
   "outputs": [
    {
     "data": {
      "text/plain": [
       "100"
      ]
     },
     "execution_count": 4,
     "metadata": {},
     "output_type": "execute_result"
    }
   ],
   "source": [
    "x + x"
   ]
  },
  {
   "cell_type": "code",
   "execution_count": 5,
   "id": "34d7cce4",
   "metadata": {},
   "outputs": [
    {
     "data": {
      "text/plain": [
       "100"
      ]
     },
     "execution_count": 5,
     "metadata": {},
     "output_type": "execute_result"
    }
   ],
   "source": [
    "x + x + x - y - y"
   ]
  },
  {
   "cell_type": "code",
   "execution_count": 6,
   "id": "9c19eec9",
   "metadata": {},
   "outputs": [],
   "source": [
    "a = 4.35\n",
    "b = 2.5"
   ]
  },
  {
   "cell_type": "code",
   "execution_count": 7,
   "id": "c798d041",
   "metadata": {},
   "outputs": [
    {
     "data": {
      "text/plain": [
       "1.7399999999999998"
      ]
     },
     "execution_count": 7,
     "metadata": {},
     "output_type": "execute_result"
    }
   ],
   "source": [
    "a/b"
   ]
  },
  {
   "cell_type": "code",
   "execution_count": 8,
   "id": "22e5eb44",
   "metadata": {},
   "outputs": [],
   "source": [
    "h='H'\n",
    "e='e'\n",
    "l='l'\n",
    "o='o'"
   ]
  },
  {
   "cell_type": "code",
   "execution_count": 9,
   "id": "77051ebe",
   "metadata": {},
   "outputs": [
    {
     "data": {
      "text/plain": [
       "'Hello'"
      ]
     },
     "execution_count": 9,
     "metadata": {},
     "output_type": "execute_result"
    }
   ],
   "source": [
    "h+e+l+l+o"
   ]
  },
  {
   "cell_type": "code",
   "execution_count": 10,
   "id": "3bcfa9e9",
   "metadata": {},
   "outputs": [],
   "source": [
    "a='Hello'\n",
    "b='World!'\n",
    "c='Im'\n",
    "d='hungry...'"
   ]
  },
  {
   "cell_type": "code",
   "execution_count": 11,
   "id": "33c8e272",
   "metadata": {},
   "outputs": [
    {
     "data": {
      "text/plain": [
       "'HelloWorld!'"
      ]
     },
     "execution_count": 11,
     "metadata": {},
     "output_type": "execute_result"
    }
   ],
   "source": [
    "a+b"
   ]
  },
  {
   "cell_type": "code",
   "execution_count": 12,
   "id": "8c4ccb92",
   "metadata": {},
   "outputs": [
    {
     "data": {
      "text/plain": [
       "'Imhungry...'"
      ]
     },
     "execution_count": 12,
     "metadata": {},
     "output_type": "execute_result"
    }
   ],
   "source": [
    "c+d"
   ]
  },
  {
   "cell_type": "code",
   "execution_count": null,
   "id": "509691b4",
   "metadata": {},
   "outputs": [],
   "source": []
  }
 ],
 "metadata": {
  "kernelspec": {
   "display_name": "Python 3 (ipykernel)",
   "language": "python",
   "name": "python3"
  },
  "language_info": {
   "codemirror_mode": {
    "name": "ipython",
    "version": 3
   },
   "file_extension": ".py",
   "mimetype": "text/x-python",
   "name": "python",
   "nbconvert_exporter": "python",
   "pygments_lexer": "ipython3",
   "version": "3.10.9"
  }
 },
 "nbformat": 4,
 "nbformat_minor": 5
}
